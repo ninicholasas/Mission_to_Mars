{
 "cells": [
  {
   "cell_type": "code",
   "execution_count": 1,
   "metadata": {},
   "outputs": [
    {
     "name": "stdout",
     "output_type": "stream",
     "text": [
      "Requirement already satisfied: splinter in /Users/nick/opt/anaconda3/envs/PythonData/lib/python3.9/site-packages (0.18.1)\r\n"
     ]
    }
   ],
   "source": [
    "#!pip install splinter"
   ]
  },
  {
   "cell_type": "code",
   "execution_count": 2,
   "metadata": {},
   "outputs": [
    {
     "name": "stdout",
     "output_type": "stream",
     "text": [
      "Requirement already satisfied: webdriver_manager in /Users/nick/opt/anaconda3/envs/PythonData/lib/python3.9/site-packages (3.8.5)\r\n",
      "Requirement already satisfied: tqdm in /Users/nick/opt/anaconda3/envs/PythonData/lib/python3.9/site-packages (from webdriver_manager) (4.64.1)\r\n",
      "Requirement already satisfied: python-dotenv in /Users/nick/opt/anaconda3/envs/PythonData/lib/python3.9/site-packages (from webdriver_manager) (0.21.0)\r\n",
      "Requirement already satisfied: requests in /Users/nick/opt/anaconda3/envs/PythonData/lib/python3.9/site-packages (from webdriver_manager) (2.28.1)\r\n",
      "Requirement already satisfied: packaging in /Users/nick/opt/anaconda3/envs/PythonData/lib/python3.9/site-packages (from webdriver_manager) (22.0)\r\n",
      "Requirement already satisfied: certifi>=2017.4.17 in /Users/nick/opt/anaconda3/envs/PythonData/lib/python3.9/site-packages (from requests->webdriver_manager) (2022.12.7)\r\n",
      "Requirement already satisfied: charset-normalizer<3,>=2 in /Users/nick/opt/anaconda3/envs/PythonData/lib/python3.9/site-packages (from requests->webdriver_manager) (2.0.4)\r\n",
      "Requirement already satisfied: idna<4,>=2.5 in /Users/nick/opt/anaconda3/envs/PythonData/lib/python3.9/site-packages (from requests->webdriver_manager) (3.4)\r\n",
      "Requirement already satisfied: urllib3<1.27,>=1.21.1 in /Users/nick/opt/anaconda3/envs/PythonData/lib/python3.9/site-packages (from requests->webdriver_manager) (1.26.13)\r\n"
     ]
    }
   ],
   "source": [
    "#!pip install webdriver_manager"
   ]
  },
  {
   "cell_type": "code",
   "execution_count": 3,
   "metadata": {},
   "outputs": [
    {
     "name": "stdout",
     "output_type": "stream",
     "text": [
      "Requirement already satisfied: splinter[selenium3] in /Users/nick/opt/anaconda3/envs/PythonData/lib/python3.9/site-packages (0.18.1)\r\n",
      "Requirement already satisfied: selenium<4.0,>=3.141.0 in /Users/nick/opt/anaconda3/envs/PythonData/lib/python3.9/site-packages (from splinter[selenium3]) (3.141.0)\r\n",
      "Requirement already satisfied: urllib3 in /Users/nick/opt/anaconda3/envs/PythonData/lib/python3.9/site-packages (from selenium<4.0,>=3.141.0->splinter[selenium3]) (1.26.13)\r\n"
     ]
    }
   ],
   "source": [
    "#!pip install \"splinter[selenium3]\""
   ]
  },
  {
   "cell_type": "code",
   "execution_count": 4,
   "metadata": {},
   "outputs": [],
   "source": [
    "from splinter import Browser\n",
    "from bs4 import BeautifulSoup as soup\n",
    "from webdriver_manager.chrome import ChromeDriverManager"
   ]
  },
  {
   "cell_type": "code",
   "execution_count": 5,
   "metadata": {},
   "outputs": [
    {
     "name": "stderr",
     "output_type": "stream",
     "text": [
      "[WDM] - Downloading: 100%|█████████████████| 8.72M/8.72M [00:00<00:00, 29.9MB/s]\n"
     ]
    }
   ],
   "source": [
    "executable_path = {'executable_path': ChromeDriverManager().install()}\n"
   ]
  },
  {
   "cell_type": "code",
   "execution_count": 6,
   "metadata": {},
   "outputs": [],
   "source": [
    "browser = Browser('chrome', **executable_path, headless=False)\n"
   ]
  },
  {
   "cell_type": "code",
   "execution_count": 7,
   "metadata": {},
   "outputs": [],
   "source": [
    "# Visit the Quotes to Scrape site\n",
    "url = 'http://quotes.toscrape.com/'\n",
    "browser.visit(url)"
   ]
  },
  {
   "cell_type": "code",
   "execution_count": 8,
   "metadata": {},
   "outputs": [],
   "source": [
    "# Parse the HTML\n",
    "html = browser.html\n",
    "html_soup = soup(html, 'html.parser')"
   ]
  },
  {
   "cell_type": "code",
   "execution_count": 9,
   "metadata": {},
   "outputs": [
    {
     "name": "stdout",
     "output_type": "stream",
     "text": [
      "<h2>Top Ten tags</h2>\n",
      "Top Ten tags\n"
     ]
    }
   ],
   "source": [
    "# Scrape the Title\n",
    "h2 = html_soup.find('h2')\n",
    "title = h2.text\n",
    "print(h2)\n",
    "print(title)\n"
   ]
  },
  {
   "cell_type": "code",
   "execution_count": 10,
   "metadata": {},
   "outputs": [
    {
     "name": "stdout",
     "output_type": "stream",
     "text": [
      "love\n",
      "inspirational\n",
      "life\n",
      "humor\n",
      "books\n",
      "reading\n",
      "friendship\n",
      "friends\n",
      "truth\n",
      "simile\n"
     ]
    }
   ],
   "source": [
    "# Scrape the top ten tags\n",
    "tag_box = html_soup.find('div', class_='tags-box')\n",
    "# tag_box\n",
    "tags = tag_box.find_all('a', class_='tag')\n",
    "\n",
    "for tag in tags:\n",
    "    word = tag.text\n",
    "    print(word)\n"
   ]
  },
  {
   "cell_type": "code",
   "execution_count": 11,
   "metadata": {},
   "outputs": [],
   "source": [
    "browser.quit()"
   ]
  },
  {
   "cell_type": "code",
   "execution_count": null,
   "metadata": {},
   "outputs": [],
   "source": []
  }
 ],
 "metadata": {
  "kernelspec": {
   "display_name": "PythonData",
   "language": "python",
   "name": "pythondata"
  },
  "language_info": {
   "codemirror_mode": {
    "name": "ipython",
    "version": 3
   },
   "file_extension": ".py",
   "mimetype": "text/x-python",
   "name": "python",
   "nbconvert_exporter": "python",
   "pygments_lexer": "ipython3",
   "version": "3.9.15"
  },
  "vscode": {
   "interpreter": {
    "hash": "265145b423275f45b4304b636cddc36273731cb4322f9f5168b9f33dbe1de8db"
   }
  }
 },
 "nbformat": 4,
 "nbformat_minor": 2
}
